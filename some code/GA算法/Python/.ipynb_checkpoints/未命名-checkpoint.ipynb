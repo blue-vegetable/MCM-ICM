{
 "cells": [
  {
   "cell_type": "code",
   "execution_count": 3,
   "id": "2174616d",
   "metadata": {},
   "outputs": [],
   "source": [
    "import numpy as np\n",
    "a =  [1,2,3,4,5]\n",
    "b =  [2,3,4,5,6]"
   ]
  },
  {
   "cell_type": "code",
   "execution_count": 8,
   "id": "1acf0312",
   "metadata": {},
   "outputs": [
    {
     "data": {
      "text/plain": [
       "array([1.35641267, 2.73712072, 3.44148536, 4.86883519, 5.62579654])"
      ]
     },
     "execution_count": 8,
     "metadata": {},
     "output_type": "execute_result"
    }
   ],
   "source": [
    "q = np.random.permutation(npop)"
   ]
  }
 ],
 "metadata": {
  "kernelspec": {
   "display_name": "Python 3",
   "language": "python",
   "name": "python3"
  },
  "language_info": {
   "codemirror_mode": {
    "name": "ipython",
    "version": 3
   },
   "file_extension": ".py",
   "mimetype": "text/x-python",
   "name": "python",
   "nbconvert_exporter": "python",
   "pygments_lexer": "ipython3",
   "version": "3.6.5"
  }
 },
 "nbformat": 4,
 "nbformat_minor": 5
}
