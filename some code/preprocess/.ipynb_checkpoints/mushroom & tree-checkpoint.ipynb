{
 "cells": [
  {
   "cell_type": "code",
   "execution_count": 2,
   "id": "175b3ac2",
   "metadata": {},
   "outputs": [],
   "source": [
    "import scipy.io as scio\n",
    "import matplotlib.pyplot as plt\n",
    "import matplotlib\n",
    "data = scio.loadmat('data1.mat')"
   ]
  },
  {
   "cell_type": "code",
   "execution_count": 40,
   "id": "2c1baf81",
   "metadata": {},
   "outputs": [
    {
     "data": {
      "image/png": "[encoded data removed]",
      "text/plain": [
       "<Figure size 216x180 with 2 Axes>"
      ]
     },
     "metadata": {
      "needs_background": "light"
     },
     "output_type": "display_data"
    }
   ],
   "source": [
    "with plt.style.context(['science']):\n",
    "    fig,ax = plt.subplots(figsize=(3,2.5))\n",
    "    ax2 = ax.twinx()\n",
    "    font = {'weight' : 'bold',\n",
    "        'size'   : 10}\n",
    "    matplotlib.rc('font', **font)\n",
    "    plt.plot(3*data['t'],data['x'][:,1])\n",
    "    plt.plot(3.5*data['t'],0.8*data['x'][:,0])\n",
    "    \n",
    "    ax.set_xlabel(r\"Time\",\n",
    "              fontweight ='bold',\n",
    "              #fontsize=18,\n",
    "              loc=\"right\")\n",
    "    ax.set_ylabel(r\"Tree Nutrient\",\n",
    "              fontweight ='bold',\n",
    "              #fontsize=18,\n",
    "              loc=\"top\")\n",
    "    ax2.set_ylabel(\"MB per unit\",\n",
    "              fontweight ='bold',\n",
    "              #fontsize=18,\n",
    "              loc=\"top\")\n",
    "#     ax.set_xticklabels(fontsize=16)\n",
    "   # plt.xticks(size = 16)\n",
    "   # plt.yticks(size = 16)\n",
    "    plt.xlim([0,40])\n",
    "    \n",
    "    \n",
    "    ax2.legend(['Microbial Biomass','Tree Nutrient'])\n",
    "    fig.savefig('micrbio.pdf',dpi=400)"
   ]
  }
 ],
 "metadata": {
  "kernelspec": {
   "display_name": "Python 3",
   "language": "python",
   "name": "python3"
  },
  "language_info": {
   "codemirror_mode": {
    "name": "ipython",
    "version": 3
   },
   "file_extension": ".py",
   "mimetype": "text/x-python",
   "name": "python",
   "nbconvert_exporter": "python",
   "pygments_lexer": "ipython3",
   "version": "3.6.5"
  }
 },
 "nbformat": 4,
 "nbformat_minor": 5
}
