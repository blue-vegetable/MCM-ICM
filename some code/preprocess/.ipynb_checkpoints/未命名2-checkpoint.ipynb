{
 "cells": [
  {
   "cell_type": "code",
   "execution_count": 1,
   "id": "1376aa10",
   "metadata": {},
   "outputs": [
    {
     "ename": "SyntaxError",
     "evalue": "(unicode error) 'unicodeescape' codec can't decode bytes in position 24-25: truncated \\xXX escape (<ipython-input-1-c189af374db1>, line 5)",
     "output_type": "error",
     "traceback": [
      "\u001b[1;36m  File \u001b[1;32m\"<ipython-input-1-c189af374db1>\"\u001b[1;36m, line \u001b[1;32m5\u001b[0m\n\u001b[1;33m    data=  scio.loadmat('D:\\MCM_ICM\\m_map\\my_file\\xy.mat')\u001b[0m\n\u001b[1;37m                       ^\u001b[0m\n\u001b[1;31mSyntaxError\u001b[0m\u001b[1;31m:\u001b[0m (unicode error) 'unicodeescape' codec can't decode bytes in position 24-25: truncated \\xXX escape\n"
     ]
    }
   ],
   "source": [
    "import numpy as np\n",
    "import scipy.io as scio\n",
    "import matplotlib.pyplot as plt\n",
    "import matplotlib\n",
    "data=  scio.loadmat(r'D:\\MCM_ICM\\m_map\\my_file\\xy.mat')\n",
    "x = data['x']\n",
    "y = data['y']"
   ]
  },
  {
   "cell_type": "code",
   "execution_count": 18,
   "id": "d64fd416",
   "metadata": {},
   "outputs": [],
   "source": [
    "def func(x):\n",
    "    k = 0.09588\n",
    "    return 25/(1+np.exp(-1*k*(x-22.1)))"
   ]
  },
  {
   "cell_type": "code",
   "execution_count": 33,
   "id": "3d2b62d0",
   "metadata": {},
   "outputs": [
    {
     "data": {
      "image/png": "[encoded data removed]",
      "text/plain": [
       "<Figure size 432x324 with 1 Axes>"
      ]
     },
     "metadata": {
      "needs_background": "light"
     },
     "output_type": "display_data"
    }
   ],
   "source": [
    "\n",
    "# x = '''0\n",
    "# 1\n",
    "# 2\n",
    "# 3\n",
    "# 4\n",
    "# 5\n",
    "# 6\n",
    "# 9\n",
    "# 11\n",
    "# 13\n",
    "# 16\n",
    "# 18\n",
    "# 25'''.split('\\n')\n",
    "\n",
    "# y = '''1.3\n",
    "# 1.8\n",
    "# 2.2\n",
    "# 3.2\n",
    "# 4.5\n",
    "# 6\n",
    "# 6.5\n",
    "# 9.5\n",
    "# 11.1\n",
    "# 13\n",
    "# 14.5\n",
    "# 16\n",
    "# 18.5'''.split('\\n')\n",
    "# x = np.asarray(x)\n",
    "# x = x.astype(dtype = np.float)\n",
    "# y = np.asarray(y)\n",
    "# y = y.astype(dtype= np.float)\n",
    "\n",
    "with plt.style.context(['science','scatter']):\n",
    "    fig,ax = plt.subplots(figsize=(6,4.5))\n",
    "    font = {'weight' : 'bold',\n",
    "        'size'   : 18}\n",
    "    matplotlib.rc('font', **font)\n",
    "    plt.plot(x,y,'ro')\n",
    "    x1 = np.linspace(0,30,100)\n",
    "    plt.plot(x1,func(x1),'k-')\n",
    "    ax.set_xlabel(r\"Age (year)\",\n",
    "              fontweight ='bold',\n",
    "              fontsize=18,\n",
    "              loc=\"right\")\n",
    "    ax.set_ylabel(r\"Height (m)\",\n",
    "              fontweight ='bold',\n",
    "              fontsize=18,\n",
    "              loc=\"top\")\n",
    "    plt.xticks(size = 16)\n",
    "    plt.yticks(size = 16)\n",
    "    ax.legend(['recording point','fiiting curve'])\n",
    "    fig.savefig('13.pdf',dpi=400)"
   ]
  }
 ],
 "metadata": {
  "kernelspec": {
   "display_name": "Python 3",
   "language": "python",
   "name": "python3"
  },
  "language_info": {
   "codemirror_mode": {
    "name": "ipython",
    "version": 3
   },
   "file_extension": ".py",
   "mimetype": "text/x-python",
   "name": "python",
   "nbconvert_exporter": "python",
   "pygments_lexer": "ipython3",
   "version": "3.6.5"
  }
 },
 "nbformat": 4,
 "nbformat_minor": 5
}
