{
 "cells": [
  {
   "cell_type": "code",
   "execution_count": 1,
   "id": "72095870",
   "metadata": {},
   "outputs": [],
   "source": [
    "import matplotlib.pyplot as plt\n",
    "import numpy as np"
   ]
  },
  {
   "cell_type": "code",
   "execution_count": null,
   "id": "8784079a",
   "metadata": {},
   "outputs": [],
   "source": [
    "x =      0\n",
    "    2.4000\n",
    "    4.8000\n",
    "    7.2000\n",
    "    9.6000\n",
    "   12.0000\n",
    "   14.4000\n",
    "   21.6000\n",
    "   26.4000\n",
    "   31.2000\n",
    "   38.4000\n",
    "   43.2000\n",
    "   60.0000"
   ]
  }
 ],
 "metadata": {
  "kernelspec": {
   "display_name": "Python 3",
   "language": "python",
   "name": "python3"
  },
  "language_info": {
   "codemirror_mode": {
    "name": "ipython",
    "version": 3
   },
   "file_extension": ".py",
   "mimetype": "text/x-python",
   "name": "python",
   "nbconvert_exporter": "python",
   "pygments_lexer": "ipython3",
   "version": "3.6.5"
  }
 },
 "nbformat": 4,
 "nbformat_minor": 5
}
