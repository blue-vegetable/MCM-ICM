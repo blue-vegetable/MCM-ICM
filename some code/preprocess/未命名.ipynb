{
 "cells": [
  {
   "cell_type": "code",
   "execution_count": 1,
   "id": "72095870",
   "metadata": {},
   "outputs": [],
   "source": [
    "import matplotlib.pyplot as plt\n",
    "import numpy as np"
   ]
  },
  {
   "cell_type": "code",
   "execution_count": 4,
   "id": "2a453c5a",
   "metadata": {},
   "outputs": [
    {
     "ename": "AttributeError",
     "evalue": "module 'matplotlib.style' has no attribute 'content'",
     "output_type": "error",
     "traceback": [
      "\u001b[1;31m---------------------------------------------------------------\u001b[0m",
      "\u001b[1;31mAttributeError\u001b[0m                Traceback (most recent call last)",
      "\u001b[1;32m<ipython-input-4-e5eae2a90900>\u001b[0m in \u001b[0;36m<module>\u001b[1;34m\u001b[0m\n\u001b[0;32m     29\u001b[0m 18.5000000000000''' .split('\\n')\n\u001b[0;32m     30\u001b[0m \u001b[1;33m\u001b[0m\u001b[0m\n\u001b[1;32m---> 31\u001b[1;33m \u001b[1;32mwith\u001b[0m \u001b[0mplt\u001b[0m\u001b[1;33m.\u001b[0m\u001b[0mstyle\u001b[0m\u001b[1;33m.\u001b[0m\u001b[0mcontent\u001b[0m\u001b[1;33m(\u001b[0m\u001b[1;34m'science'\u001b[0m\u001b[1;33m)\u001b[0m\u001b[1;33m:\u001b[0m\u001b[1;33m\u001b[0m\u001b[0m\n\u001b[0m\u001b[0;32m     32\u001b[0m     \u001b[0mplt\u001b[0m\u001b[1;33m.\u001b[0m\u001b[0mplot\u001b[0m\u001b[1;33m(\u001b[0m\u001b[0mx1\u001b[0m\u001b[1;33m,\u001b[0m\u001b[0my1\u001b[0m\u001b[1;33m)\u001b[0m\u001b[1;33m\u001b[0m\u001b[0m\n",
      "\u001b[1;31mAttributeError\u001b[0m: module 'matplotlib.style' has no attribute 'content'"
     ]
    }
   ],
   "source": [
    "x =['0', '2.4000', '4.8000', '7.2000', '9.6000', '12.0000', '14.4000', '21.6000', '26.4000', '31.2000', '38.4000', '43.2000', '60.0000']\n",
    "y =['1.7568', '2.4324', '2.9730', '4.3243', '6.0811', '8.1081', '8.7838', '12.8378', '15.0000', '17.5676', '19.5946', '21.6216', '25.0000']\n",
    "x1 = '''0",    "1",    "2",    "3",    "4",    "5",    "6",    "9",    "11",    "13",    "16",
    "18",
    "25'''.split('\')",
    "x1",
    "y1 = '''1.30000000000000",
    "1.80000000000000",
    "2.20000000000000",
    "3.20000000000000",
    "4.50000000000000",
    "6",
    "6.50000000000000\n",
    "9.50000000000000\n",
    "11.1000000000000\n",
    "13\n",
    "14.5000000000000\n",
    "16\n",
    "18.5000000000000''' .split('\\n')\n",
    "\n",
    "with plt.style.content('science'):\n",
    "    plt.plot(x1,y1)\n"
   ]
  }
 ],
 "metadata": {
  "kernelspec": {
   "display_name": "Python 3",
   "language": "python",
   "name": "python3"
  },
  "language_info": {
   "codemirror_mode": {
    "name": "ipython",
    "version": 3
   },
   "file_extension": ".py",
   "mimetype": "text/x-python",
   "name": "python",
   "nbconvert_exporter": "python",
   "pygments_lexer": "ipython3",
   "version": "3.6.5"
  }
 },
 "nbformat": 4,
 "nbformat_minor": 5
}
