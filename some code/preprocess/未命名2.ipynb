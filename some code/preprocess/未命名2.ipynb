{
 "cells": [
  {
   "cell_type": "code",
   "execution_count": 2,
   "id": "1376aa10",
   "metadata": {},
   "outputs": [],
   "source": [
    "import numpy as np\n",
    "import scipy.io as scio\n",
    "import matplotlib.pyplot as plt\n",
    "import matplotlib\n",
    "data=  scio.loadmat(r'D:\\MCM_ICM\\m_map\\my_file\\xy.mat')\n",
    "x = data['x']\n",
    "y = data['y']"
   ]
  },
  {
   "cell_type": "code",
   "execution_count": 8,
   "id": "d64fd416",
   "metadata": {},
   "outputs": [],
   "source": [
    "def func(x):\n",
    "    k = 0.09588\n",
    "    return 25/(1+np.exp(-1*k*(x-22.1)))\n",
    "def func1(x):\n",
    "    k = 0.08525\n",
    "    return 25/(1+np.exp(-1*k*(x-20.86)))\n",
    "def func2(x):\n",
    "    k = 0.1065\n",
    "    return 25/(1+np.exp(-1*k*(x-23.35)))"
   ]
  },
  {
   "cell_type": "code",
   "execution_count": 14,
   "id": "3d2b62d0",
   "metadata": {},
   "outputs": [
    {
     "data": {
      "image/png": "[encoded data removed]",
      "text/plain": [
       "<Figure size 360x288 with 1 Axes>"
      ]
     },
     "metadata": {
      "needs_background": "light"
     },
     "output_type": "display_data"
    }
   ],
   "source": [
    "\n",
    "# x = '''0\n",
    "# 1\n",
    "# 2\n",
    "# 3\n",
    "# 4\n",
    "# 5\n",
    "# 6\n",
    "# 9\n",
    "# 11\n",
    "# 13\n",
    "# 16\n",
    "# 18\n",
    "# 25'''.split('\\n')\n",
    "\n",
    "# y = '''1.3\n",
    "# 1.8\n",
    "# 2.2\n",
    "# 3.2\n",
    "# 4.5\n",
    "# 6\n",
    "# 6.5\n",
    "# 9.5\n",
    "# 11.1\n",
    "# 13\n",
    "# 14.5\n",
    "# 16\n",
    "# 18.5'''.split('\\n')\n",
    "# x = np.asarray(x)\n",
    "# x = x.astype(dtype = np.float)\n",
    "# y = np.asarray(y)\n",
    "# y = y.astype(dtype= np.float)\n",
    "\n",
    "with plt.style.context(['science','scatter']):\n",
    "    fig,ax = plt.subplots(figsize=(5,4))\n",
    "    font = {'weight' : 'bold',\n",
    "        'size'   : 18}\n",
    "    matplotlib.rc('font', **font)\n",
    "    plt.plot(x,y,'ro')\n",
    "    x1 = np.linspace(0,60,100)\n",
    "    plt.plot(x1,func(x1),'k-')\n",
    "    ax.set_xlabel(r\"Age (year)\",\n",
    "              fontweight ='bold',\n",
    "              fontsize=18,\n",
    "              loc=\"right\")\n",
    "    ax.set_ylabel(r\"Height (m)\",\n",
    "              fontweight ='bold',\n",
    "              fontsize=18,\n",
    "              loc=\"top\")\n",
    "    plt.xticks(size = 16)\n",
    "    plt.yticks(size = 16)\n",
    "    ax.fill_between(x1,func1(x1),func2(x1),alpha=.2)\n",
    "    ax.legend(['recording point','fiiting curve'])\n",
    "    fig.savefig('13.pdf',dpi=400)"
   ]
  }
 ],
 "metadata": {
  "kernelspec": {
   "display_name": "Python 3",
   "language": "python",
   "name": "python3"
  },
  "language_info": {
   "codemirror_mode": {
    "name": "ipython",
    "version": 3
   },
   "file_extension": ".py",
   "mimetype": "text/x-python",
   "name": "python",
   "nbconvert_exporter": "python",
   "pygments_lexer": "ipython3",
   "version": "3.6.5"
  }
 },
 "nbformat": 4,
 "nbformat_minor": 5
}
